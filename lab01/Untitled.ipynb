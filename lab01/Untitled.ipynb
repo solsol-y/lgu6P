{
 "cells": [
  {
   "cell_type": "code",
   "execution_count": 20,
   "id": "486965a4-50ca-4b72-86e2-728a806636bc",
   "metadata": {},
   "outputs": [],
   "source": [
    "import seaborn as sns\n",
    "import pandas as pd\n",
    "\n",
    "iris = sns.load_dataset(\"iris\")\n",
    "result = iris.loc[:, ['sepal_length', 'species']]\n",
    "\n",
    "# 미션\n",
    "# 파일명 iris_mission.csv\n",
    "#dataset 폴더 안으로 해당 파일을 내보내기\n",
    "# lab01의 상위폴더로 이동했다가 dataset으로 이동\n",
    "\n",
    "# result.to_csv(\"상위폴더가기/dataset/iris_mission.csv\", index=False) \n",
    "result.to_csv(\"../dataset/iris_mission.csv\", index=False) "
   ]
  },
  {
   "cell_type": "code",
   "execution_count": null,
   "id": "fbfc7db2-1841-411b-9ce6-2f7547e2e411",
   "metadata": {},
   "outputs": [],
   "source": []
  }
 ],
 "metadata": {
  "kernelspec": {
   "display_name": "Python 3 (ipykernel)",
   "language": "python",
   "name": "python3"
  },
  "language_info": {
   "codemirror_mode": {
    "name": "ipython",
    "version": 3
   },
   "file_extension": ".py",
   "mimetype": "text/x-python",
   "name": "python",
   "nbconvert_exporter": "python",
   "pygments_lexer": "ipython3",
   "version": "3.13.2"
  }
 },
 "nbformat": 4,
 "nbformat_minor": 5
}
