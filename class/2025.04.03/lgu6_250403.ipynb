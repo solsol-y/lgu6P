{
 "cells": [
  {
   "cell_type": "code",
   "execution_count": 2,
   "id": "2a1ece10-e321-4d1e-8b1b-726b4f146b0c",
   "metadata": {},
   "outputs": [
    {
     "data": {
      "text/html": [
       "<div>\n",
       "<style scoped>\n",
       "    .dataframe tbody tr th:only-of-type {\n",
       "        vertical-align: middle;\n",
       "    }\n",
       "\n",
       "    .dataframe tbody tr th {\n",
       "        vertical-align: top;\n",
       "    }\n",
       "\n",
       "    .dataframe thead th {\n",
       "        text-align: right;\n",
       "    }\n",
       "</style>\n",
       "<table border=\"1\" class=\"dataframe\">\n",
       "  <thead>\n",
       "    <tr style=\"text-align: right;\">\n",
       "      <th></th>\n",
       "      <th>sepal_length</th>\n",
       "      <th>species</th>\n",
       "    </tr>\n",
       "  </thead>\n",
       "  <tbody>\n",
       "    <tr>\n",
       "      <th>0</th>\n",
       "      <td>5.1</td>\n",
       "      <td>setosa</td>\n",
       "    </tr>\n",
       "  </tbody>\n",
       "</table>\n",
       "</div>"
      ],
      "text/plain": [
       "   sepal_length species\n",
       "0           5.1  setosa"
      ]
     },
     "execution_count": 2,
     "metadata": {},
     "output_type": "execute_result"
    }
   ],
   "source": [
    "import pandas as pd\n",
    "import seaborn as sns \n",
    "\n",
    "iris = sns.load_dataset(\"iris\")\n",
    "result = iris.loc[:, ['sepal_length', 'species']]\n",
    "result.head(1)"
   ]
  },
  {
   "cell_type": "code",
   "execution_count": 4,
   "id": "b36a2200-ebe2-42e6-af78-02a334768b5d",
   "metadata": {},
   "outputs": [],
   "source": [
    "result.to_excel(\"dataset/iris_excel_file.xlsx\", \n",
    "                sheet_name='Sheet_name_1', \n",
    "                index=False)"
   ]
  },
  {
   "cell_type": "markdown",
   "id": "96bcd34a-6192-4f43-a8ae-ebf556ca547d",
   "metadata": {},
   "source": [
    "# Group By 연산\n",
    "- 집계함수 같이 활용 \n",
    "- 분석의 목적 : 그룹별로 비교하고 싶을 때 사용"
   ]
  },
  {
   "cell_type": "code",
   "execution_count": 5,
   "id": "dd90dd73-ff8d-4250-a8c8-3152b881f86d",
   "metadata": {},
   "outputs": [
    {
     "data": {
      "text/html": [
       "<div>\n",
       "<style scoped>\n",
       "    .dataframe tbody tr th:only-of-type {\n",
       "        vertical-align: middle;\n",
       "    }\n",
       "\n",
       "    .dataframe tbody tr th {\n",
       "        vertical-align: top;\n",
       "    }\n",
       "\n",
       "    .dataframe thead th {\n",
       "        text-align: right;\n",
       "    }\n",
       "</style>\n",
       "<table border=\"1\" class=\"dataframe\">\n",
       "  <thead>\n",
       "    <tr style=\"text-align: right;\">\n",
       "      <th></th>\n",
       "      <th>total_bill</th>\n",
       "      <th>tip</th>\n",
       "      <th>sex</th>\n",
       "      <th>smoker</th>\n",
       "      <th>day</th>\n",
       "      <th>time</th>\n",
       "      <th>size</th>\n",
       "    </tr>\n",
       "  </thead>\n",
       "  <tbody>\n",
       "    <tr>\n",
       "      <th>0</th>\n",
       "      <td>16.99</td>\n",
       "      <td>1.01</td>\n",
       "      <td>Female</td>\n",
       "      <td>No</td>\n",
       "      <td>Sun</td>\n",
       "      <td>Dinner</td>\n",
       "      <td>2</td>\n",
       "    </tr>\n",
       "  </tbody>\n",
       "</table>\n",
       "</div>"
      ],
      "text/plain": [
       "   total_bill   tip     sex smoker  day    time  size\n",
       "0       16.99  1.01  Female     No  Sun  Dinner     2"
      ]
     },
     "execution_count": 5,
     "metadata": {},
     "output_type": "execute_result"
    }
   ],
   "source": [
    "import seaborn as sns\n",
    "tips = sns.load_dataset(\"tips\")\n",
    "tips.head(1)"
   ]
  },
  {
   "cell_type": "markdown",
   "id": "00d476c9-f564-4dce-91dd-a0444f4a0fba",
   "metadata": {},
   "source": [
    "## 성별로 tip 평균 구하기"
   ]
  },
  {
   "cell_type": "code",
   "execution_count": 9,
   "id": "5355e9b1-cb84-4a00-8dfa-d8e50f8a311f",
   "metadata": {},
   "outputs": [
    {
     "data": {
      "text/plain": [
       "sex\n",
       "Male      3.089618\n",
       "Female    2.833448\n",
       "Name: tip, dtype: float64"
      ]
     },
     "execution_count": 9,
     "metadata": {},
     "output_type": "execute_result"
    }
   ],
   "source": [
    "tips.groupby('sex', observed=True)['tip'].mean()\n",
    "\n",
    "# 통계적으로 유의한가 : 기초 통계 영역으로 넘어감. "
   ]
  },
  {
   "cell_type": "markdown",
   "id": "87c28c59-b090-448f-a67d-cc0ad0ee6d9f",
   "metadata": {},
   "source": [
    "## 요일별 총 결제 금액 구하기"
   ]
  },
  {
   "cell_type": "code",
   "execution_count": 14,
   "id": "01dfbd46-5398-44a2-8299-dc495fcdc2bf",
   "metadata": {},
   "outputs": [
    {
     "data": {
      "text/plain": [
       "day\n",
       "Thur    1096.33\n",
       "Fri      325.88\n",
       "Sat     1778.40\n",
       "Sun     1627.16\n",
       "Name: total_bill, dtype: float64"
      ]
     },
     "execution_count": 14,
     "metadata": {},
     "output_type": "execute_result"
    }
   ],
   "source": [
    "# 요일별 총 결제 금액 구하기\n",
    "# 집계함수: sum()\n",
    "tips.groupby('day', observed=True)['total_bill'].sum()"
   ]
  },
  {
   "cell_type": "markdown",
   "id": "1f181571-8df7-4b19-b36b-f84a0fdaef47",
   "metadata": {},
   "source": [
    "## 요일 & 성별로 팁 평균"
   ]
  },
  {
   "cell_type": "code",
   "execution_count": 15,
   "id": "e475eb4a-75b7-429f-a283-821fedfed012",
   "metadata": {},
   "outputs": [
    {
     "data": {
      "text/plain": [
       "day   sex   \n",
       "Thur  Male       89.41\n",
       "      Female     82.42\n",
       "Fri   Male       26.93\n",
       "      Female     25.03\n",
       "Sat   Male      181.95\n",
       "      Female     78.45\n",
       "Sun   Male      186.78\n",
       "      Female     60.61\n",
       "Name: tip, dtype: float64"
      ]
     },
     "execution_count": 15,
     "metadata": {},
     "output_type": "execute_result"
    }
   ],
   "source": [
    "tips.groupby(['day', 'sex'], observed=True)['tip'].sum()"
   ]
  },
  {
   "cell_type": "markdown",
   "id": "a42c0fc2-477f-4512-8c76-bc8957f405f5",
   "metadata": {},
   "source": [
    "## 식사 시간별 인원 수 평균\n",
    "- time, size "
   ]
  },
  {
   "cell_type": "code",
   "execution_count": null,
   "id": "f5bd809a-e23f-4243-8204-51f658e76c40",
   "metadata": {},
   "outputs": [],
   "source": []
  }
 ],
 "metadata": {
  "kernelspec": {
   "display_name": "Python 3 (ipykernel)",
   "language": "python",
   "name": "python3"
  },
  "language_info": {
   "codemirror_mode": {
    "name": "ipython",
    "version": 3
   },
   "file_extension": ".py",
   "mimetype": "text/x-python",
   "name": "python",
   "nbconvert_exporter": "python",
   "pygments_lexer": "ipython3",
   "version": "3.13.2"
  }
 },
 "nbformat": 4,
 "nbformat_minor": 5
}
